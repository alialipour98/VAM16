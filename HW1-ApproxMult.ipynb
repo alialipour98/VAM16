{
  "cells": [
    {
      "cell_type": "code",
      "execution_count": 4,
      "metadata": {
        "colab": {
          "base_uri": "https://localhost:8080/",
          "height": 380
        },
        "id": "RgEdiDzDk_e9",
        "outputId": "f2c0b13b-1ab9-442c-fd0a-ffa3cf940a67"
      },
      "outputs": [
        {
          "name": "stdout",
          "output_type": "stream",
          "text": [
            "The Result is: 00000000000001010111011001110000\n"
          ]
        }
      ],
      "source": [
        "from operator import *\n",
        "\n",
        "a=input(\"Multipicant in the Binary Format: \")\n",
        "b=input(\"Multiplier in the Binary Format: \")\n",
        "\n",
        "A=list(a)\n",
        "B=list(b)\n",
        "\n",
        "try :\n",
        "  x = A.index('1')\n",
        "  X = len(A)-1-x\n",
        "except ValueError :\n",
        "  x=X=len(A)-1\n",
        "\n",
        "try :\n",
        "  y = B.index('1')\n",
        "  Y = len(B)-1-y\n",
        "except ValueError :\n",
        "  Y=len(B)-1\n",
        "\n",
        "if X>len(A)/2 or X==len(A)/2:\n",
        "  resA = A[x:int(x+len(A)/2)]\n",
        "else:\n",
        "  resA=A[x:]\n",
        "if Y>len(B)/2 or Y==len(B)/2:\n",
        "  resB = B[y:int(y-len(B)/2)]\n",
        "else:\n",
        "  resB=B[y:]\n",
        "\n",
        "stra = ''.join(str(i) for i in resA)\n",
        "strb = ''.join(str(i) for i in resB)\n",
        "strt = len(resA)+len(resB)\n",
        "\n",
        "z = bin(mul(int(stra,2),int(strb,2)));\n",
        "Z = z[2:]\n",
        "\n",
        "Sum = x+y;\n",
        "sel = len(A)-Sum\n",
        "\n",
        "arr = [(Sum)*'0',Z,(sel)*'0']\n",
        "arr = ''.join(str(i) for i in arr)\n",
        "print(f\"The Result is: {arr}\")"
      ]
    },
    {
      "cell_type": "code",
      "execution_count": null,
      "metadata": {},
      "outputs": [],
      "source": []
    }
  ],
  "metadata": {
    "colab": {
      "provenance": []
    },
    "kernelspec": {
      "display_name": "Python 3",
      "name": "python3"
    },
    "language_info": {
      "codemirror_mode": {
        "name": "ipython",
        "version": 3
      },
      "file_extension": ".py",
      "mimetype": "text/x-python",
      "name": "python",
      "nbconvert_exporter": "python",
      "pygments_lexer": "ipython3",
      "version": "3.10.4"
    }
  },
  "nbformat": 4,
  "nbformat_minor": 0
}
